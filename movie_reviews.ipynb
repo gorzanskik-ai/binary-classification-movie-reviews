{
  "nbformat": 4,
  "nbformat_minor": 0,
  "metadata": {
    "colab": {
      "provenance": [],
      "authorship_tag": "ABX9TyPF+DOuL+lAw+kM99mCVjvv",
      "include_colab_link": true
    },
    "kernelspec": {
      "name": "python3",
      "display_name": "Python 3"
    },
    "language_info": {
      "name": "python"
    }
  },
  "cells": [
    {
      "cell_type": "markdown",
      "metadata": {
        "id": "view-in-github",
        "colab_type": "text"
      },
      "source": [
        "<a href=\"https://colab.research.google.com/github/gorzanskik-ai/binary-classification-movie-reviews/blob/main/movie_reviews.ipynb\" target=\"_parent\"><img src=\"https://colab.research.google.com/assets/colab-badge.svg\" alt=\"Open In Colab\"/></a>"
      ]
    },
    {
      "cell_type": "code",
      "execution_count": null,
      "metadata": {
        "colab": {
          "base_uri": "https://localhost:8080/",
          "height": 36
        },
        "id": "fDYA-xrTDaNB",
        "outputId": "f66057eb-fa47-4523-e19f-ba42fd17eb68"
      },
      "outputs": [
        {
          "output_type": "execute_result",
          "data": {
            "text/plain": [
              "'1.0.2'"
            ],
            "application/vnd.google.colaboratory.intrinsic+json": {
              "type": "string"
            }
          },
          "metadata": {},
          "execution_count": 1
        }
      ],
      "source": [
        "import numpy as np\n",
        "import pandas as pd\n",
        "import plotly.express as px\n",
        "import sklearn\n",
        "\n",
        "np.random.seed(42)\n",
        "np.set_printoptions(precision=6, suppress=True, edgeitems=10, linewidth=1000, formatter=dict(float=lambda x: f'{x:.2f}'))\n",
        "sklearn.__version__"
      ]
    },
    {
      "cell_type": "code",
      "source": [
        "!wget https://raw.githubusercontent.com/nltk/nltk_data/gh-pages/packages/corpora/movie_reviews.zip"
      ],
      "metadata": {
        "colab": {
          "base_uri": "https://localhost:8080/"
        },
        "id": "FsHie6ooDvAV",
        "outputId": "e0251428-66f4-43c0-e3d9-c272bd4c2da8"
      },
      "execution_count": null,
      "outputs": [
        {
          "output_type": "stream",
          "name": "stdout",
          "text": [
            "--2022-06-02 07:14:44--  https://raw.githubusercontent.com/nltk/nltk_data/gh-pages/packages/corpora/movie_reviews.zip\n",
            "Resolving raw.githubusercontent.com (raw.githubusercontent.com)... 185.199.108.133, 185.199.111.133, 185.199.109.133, ...\n",
            "Connecting to raw.githubusercontent.com (raw.githubusercontent.com)|185.199.108.133|:443... connected.\n",
            "HTTP request sent, awaiting response... 200 OK\n",
            "Length: 4004848 (3.8M) [application/zip]\n",
            "Saving to: ‘movie_reviews.zip’\n",
            "\n",
            "\rmovie_reviews.zip     0%[                    ]       0  --.-KB/s               \rmovie_reviews.zip   100%[===================>]   3.82M  --.-KB/s    in 0.07s   \n",
            "\n",
            "2022-06-02 07:14:44 (52.3 MB/s) - ‘movie_reviews.zip’ saved [4004848/4004848]\n",
            "\n"
          ]
        }
      ]
    },
    {
      "cell_type": "code",
      "source": [
        "!unzip -q movie_reviews.zip"
      ],
      "metadata": {
        "id": "ZlzQ9nz_EAf8"
      },
      "execution_count": null,
      "outputs": []
    },
    {
      "cell_type": "code",
      "source": [
        "!pwd\n",
        "!ls"
      ],
      "metadata": {
        "id": "WxF_zHfzDyet",
        "colab": {
          "base_uri": "https://localhost:8080/"
        },
        "outputId": "e158ad24-d54a-42d4-d6eb-525740a849a7"
      },
      "execution_count": null,
      "outputs": [
        {
          "output_type": "stream",
          "name": "stdout",
          "text": [
            "/content\n",
            "movie_reviews  movie_reviews.zip  sample_data\n"
          ]
        }
      ]
    },
    {
      "cell_type": "code",
      "source": [
        "from sklearn.datasets import load_files\n",
        "\n",
        "raw_movie = load_files('movie_reviews')\n",
        "movie = raw_movie.copy()\n",
        "movie.keys()"
      ],
      "metadata": {
        "id": "TYIojPikDywZ",
        "colab": {
          "base_uri": "https://localhost:8080/"
        },
        "outputId": "6e2426cc-3b04-443e-ac53-ad02b2753aea"
      },
      "execution_count": null,
      "outputs": [
        {
          "output_type": "execute_result",
          "data": {
            "text/plain": [
              "dict_keys(['data', 'filenames', 'target_names', 'target', 'DESCR'])"
            ]
          },
          "metadata": {},
          "execution_count": 5
        }
      ]
    },
    {
      "cell_type": "markdown",
      "source": [
        "Ekspolracja danych"
      ],
      "metadata": {
        "id": "dF1LeyWmD1Ft"
      }
    },
    {
      "cell_type": "code",
      "source": [
        "X = movie['data']\n",
        "y = movie['target']"
      ],
      "metadata": {
        "id": "M9Jz4NC_E_FK"
      },
      "execution_count": null,
      "outputs": []
    },
    {
      "cell_type": "code",
      "source": [
        "X[:10]"
      ],
      "metadata": {
        "id": "11SuvDh5EWvb",
        "colab": {
          "base_uri": "https://localhost:8080/"
        },
        "outputId": "121dfb86-cca6-4362-d816-03713443a9b4"
      },
      "execution_count": null,
      "outputs": [
        {
          "output_type": "execute_result",
          "data": {
            "text/plain": [
              "[b\"arnold schwarzenegger has been an icon for action enthusiasts , since the late 80's , but lately his films have been very sloppy and the one-liners are getting worse . \\nit's hard seeing arnold as mr . freeze in batman and robin , especially when he says tons of ice jokes , but hey he got 15 million , what's it matter to him ? \\nonce again arnold has signed to do another expensive blockbuster , that can't compare with the likes of the terminator series , true lies and even eraser . \\nin this so called dark thriller , the devil ( gabriel byrne ) has come upon earth , to impregnate a woman ( robin tunney ) which happens every 1000 years , and basically destroy the world , but apparently god has chosen one man , and that one man is jericho cane ( arnold himself ) . \\nwith the help of a trusty sidekick ( kevin pollack ) , they will stop at nothing to let the devil take over the world ! \\nparts of this are actually so absurd , that they would fit right in with dogma . \\nyes , the film is that weak , but it's better than the other blockbuster right now ( sleepy hollow ) , but it makes the world is not enough look like a 4 star film . \\nanyway , this definitely doesn't seem like an arnold movie . \\nit just wasn't the type of film you can see him doing . \\nsure he gave us a few chuckles with his well known one-liners , but he seemed confused as to where his character and the film was going . \\nit's understandable , especially when the ending had to be changed according to some sources . \\naside form that , he still walked through it , much like he has in the past few films . \\ni'm sorry to say this arnold but maybe these are the end of your action days . \\nspeaking of action , where was it in this film ? \\nthere was hardly any explosions or fights . \\nthe devil made a few places explode , but arnold wasn't kicking some devil butt . \\nthe ending was changed to make it more spiritual , which undoubtedly ruined the film . \\ni was at least hoping for a cool ending if nothing else occurred , but once again i was let down . \\ni also don't know why the film took so long and cost so much . \\nthere was really no super affects at all , unless you consider an invisible devil , who was in it for 5 minutes tops , worth the overpriced budget . \\nthe budget should have gone into a better script , where at least audiences could be somewhat entertained instead of facing boredom . \\nit's pitiful to see how scripts like these get bought and made into a movie . \\ndo they even read these things anymore ? \\nit sure doesn't seem like it . \\nthankfully gabriel's performance gave some light to this poor film . \\nwhen he walks down the street searching for robin tunney , you can't help but feel that he looked like a devil . \\nthe guy is creepy looking anyway ! \\nwhen it's all over , you're just glad it's the end of the movie . \\ndon't bother to see this , if you're expecting a solid action flick , because it's neither solid nor does it have action . \\nit's just another movie that we are suckered in to seeing , due to a strategic marketing campaign . \\nsave your money and see the world is not enough for an entertaining experience . \\n\",\n",
              " b\"good films are hard to find these days . \\ngreat films are beyond rare . \\nproof of life , russell crowe's one-two punch of a deft kidnap and rescue thriller , is one of those rare gems . \\na taut drama laced with strong and subtle acting , an intelligent script , and masterful directing , together it delivers something virtually unheard of in the film industry these days , genuine motivation in a story that rings true . \\nconsider the strange coincidence of russell crowe's character in proof of life making the moves on a distraught wife played by meg ryan's character in the film -- all while the real russell crowe was hitching up with married woman meg ryan in the outside world . \\ni haven't seen this much chemistry between actors since mcqueen and mcgraw teamed up in peckinpah's masterpiece , the getaway . \\nbut enough with the gossip , let's get to the review . \\nthe film revolves around the kidnapping of peter bowman ( david morse ) , an american engineer working in south america who is kidnapped during a mass ambush of civilians by anti-government soldiers . \\nupon discovering his identity , the rebel soldiers decide to ransom him for $6 million . \\nthe only problem is that the company peter bowman works for is being auctioned off , and no one will step forward with the money . \\nwith no choice available to her , bowman's wife alice ( ryan ) hires terry thorne ( crowe ) , a highly skilled negotiator and rescue operative , to arrange the return of her husband . \\nbut when things go wrong -- as they always do in these situations -- terry and his team ( which includes the most surprising casting choice of the year : david caruso ) take matters into their own hands . \\nthe film is notable in that it takes this very simple story line and creates a complex and intelligent character-driven vehicle filled with well-written dialogue , shades of motivation , and convincing acting by all the actors . \\nthe script is based on both a book ( the long march to freedom ) and a magazine article pertaining to kidnap/ransom situations , and the story has been sharply pieced together by tony gilroy , screenwriter of the devil's advocate and dolores claiborne . \\nthe biggest surprise for me was not the chemistry between crowe and ryan , but that between crowe and david caruso . \\ndug out from b-movie hell , caruso pulls off a gutsy performance as crowe's right hand gun while providing most of the film's humor . \\nryan cries a lot and smokes too many cigarettes , david morse ends up getting everyone at the guerilla camp to hate him , and crowe provides another memorable acting turn as the stoic , gunslinger character of terry thorne . \\nthe most memorable pieces of the film lie in its action scenes . \\nthe bulk of those scenes , which bookend the movie , work extremely well as establishment and closure devices for all of the story's characters . \\nthe scenes are skillfully crafted and executed with amazing accuracy and poise . \\ndirector taylor hackford mixes both his old-school style of filmmaking with the dizziness of a lars von trier film . \\nproof of life is a thinking man's action movie . \\nit is a film about the choices men and women make in the face of love and war , and the sacrifices one makes for those choices -- the sacrifices that help you sleep at night . \\n\",\n",
              " b\"quaid stars as a man who has taken up the proffesion of dragonslayer after he feels he is betrayed by a dragon early in the movie . \\nhe runs into the last dragon in existence , and there is a genuinely amusing battle between the two which results in a standoff where quaid is in the dragons mouth , but has his sword pointed at the dragons brain . \\neventually , they decide to call a truce , and they work out a deal . \\nsince he is the last dragon , he will pretend to die and quaid will be able to get paid for it . \\ntheir scam works at first , until they come to a town without any money . \\ninstead the town sacrifices a girl to the dragon , but of course , draco is a nice droagon , so he won't eat her . there is however a very amusing scene where draco is hitting on the young girl . \\nof course , as you can probably tell by the plot , this is a silly movie , but it does know when to take itself seriously at the right times , unlike eddie , which was serious all the time . \\nyou could probably call this a medieval comedy , because there are more laughs here than in eddie and spy hard combined . \\ndennis quaid makes a fine hero . \\npete posthlewaite provides some ghreat comedy as a monk who journeys with them . \\ndina meyer is appealing as the sacrificed girl . \\nbut lets face it , the movie is really about the dragon , and what an amazing creation he is . \\nconnery's voice and ilm team up to provide us with a truly magnificent dragon . \\nso , if you are going to see this movie for a strong hard core medieval epic , you are going to the wrong movie . \\nif you are going because of the dragon , you will not be dissapointed , and you will be provided with plenty of laughs that smooth out the boring parts in the script . \\n\",\n",
              " b'we could paraphrase michelle pfieffer\\'s character in dangerous minds and say that beyond rangoon starts with an \" a . \" \\nthat\\'s fair enough . \\nall movies , like all school children , should be given the benefit of the doubt . \\nthe chance to succeed . \\nafter all , we like to think that the right combination of talent and effort can do wonders . \\nmountains can be moved , and good movies can be made . \\nyeah right . \\nchildren fail , as do films . \\nas does director john boorman\\'s latest . \\nthe success of beyond rangoon hinges on the believability of patricia arquette ( ed wood , true romance ) as the busty westerner-in-peril wandering about 1988 burma without a passport . \\nthough we can stomach the mild plot contrivances that get her there , it\\'s a tougher task to overlook the actress . \\nshe\\'s a lightweight . \\nas the first scene ( with narration ! ) \\ndemonstrates , she doesn\\'t have * nearly * enough range for the emotions that her character--a mother fleeing the memories of a murdered husband and son--is supposed to show . \\nshe may give a stronger performance than , say , keanu reeves in a walk in the clouds , by not by much . \\nbeyond rangoon is a very physically appealing film , thanks to the practiced craftsmanship of john boorman ( deliverance , excalibur , hope and glory ) . \\nhe keeps the narrative moving , no matter how muddy the story--or the heroine--gets . \\nwhy he chose arquette remains a mystery , though . \\nmaybe he was thinking that the dramatic weight of the story would overcome any casting deficiencies . \\nbut even after an hour of half-stated political statements and murky mass killings , we * still * don\\'t know enough of what\\'s happening in this country to feel distressed for the characters or their situations . \\nempty exoticism . \\nthe technical credits in beyond rangoon are a curious mix , combining lush jungle photography with bad blue-screen work . \\nalso odd is the obvious dubbing . \\ndone to make some of the foreign characters sound less foreign ? \\nand , is it my mistake , or do the same extras keep reappearing as different soldiers ? ? \\ndoo doo doo doo . \\n[ \" twilight zone \" theme , or opinion of movie . \\nyou be the judge . ] \\n',\n",
              " b\"kolya is one of the richest films i've seen in some time . \\nzdenek sverak plays a confirmed old bachelor ( who's likely to remain so ) , who finds his life as a czech cellist increasingly impacted by the five-year old boy that he's taking care of . \\nthough it ends rather abruptly-- and i'm whining , 'cause i wanted to spend more time with these characters-- the acting , writing , and production values are as high as , if not higher than , comparable american dramas . \\nthis father-and-son delight-- sverak also wrote the script , while his son , jan , directed-- won a golden globe for best foreign language film and , a couple days after i saw it , walked away an oscar . \\nin czech and russian , with english subtitles . \\n\",\n",
              " b'i don\\'t know how many other people have had the idea cross their mind that their life could be an ongoing television show watched by another world of people , but it\\'s something i used to wonder about when i was younger . \\ni can\\'t decide if i first thought it because i watched a lot of tv or because my brother hit me in the head with a baseball bat , but i\\'m pretty sure andrew niccol , screenwriter for the truman show , has had the same curious thought . \\nthe truman show is about a man ( jim carrey ) whose entire life has been engineered by a corporation and marketed to the public . \\nsince birth , he\\'s been living in the fictional island town of seahaven , fla . , which actually exists as a giant domed set just beyond the hollywood sign . \\nall the people in truman burbank\\'s life are actors , and the anonymous townfolk paid extras . \\npeople watch truman\\'s life 24 hours a day , live , with no commercial interruptions . \\nrevenue comes instead from product placement , a staple of contemporary hollywood , with truman\\'s friends and relatives describing their consumer items in cheerful and optimistic tones . \\nthe sun rises and sets on cue and everyone likes everyone else . \\neven if you haven\\'t seen the truman show , you\\'ve probably learned most of the crucial details from the commercials , the trailer and other promotion blitzes . \\nif anything i\\'ve written so far is a surprise to you , then i pity you for making me a primary source for your entertainment news . \\neither way , you should probably know the premise of the truman show going into it , because otherwise you\\'ll probably think it sucks . \\nit begins with jim carrey looking into a mirror , reciting the crucial \" eat me \" scene from alive , wishing his neighbors a good day , afternoon and evening , and living in domestic bliss with his wife ( laura linney ) . \\nbut weird things start happening . \\na stage light comes falling out of the sky , truman hears people tracking his movements on the radio and he swears he sees his dead father . \\nwe learn through a flashback that his father drowned when truman was a child , sailing through a rainstorm . \\nthe death was staged by director christof ( ed harris ) , who wanted to put a fear of water into truman to keep him from leaving the island . \\nsimilar cruel manipulations keep him from stumbling upon the truth , not the least of them truman\\'s best friend marlon ( noah emmerich ) , who assures him he\\'s not in on any conspiracy because the last thing he\\'d ever do is hurt him . \\nas truman\\'s trusting eyes tear over , christof fades up emotional synthesizer music for a worldwide audience of people who apparently never watch anything else . \\nthere\\'s even a daily behind-the-scenes update from harry shearer that captures the highlights of truman\\'s existence . \\nthe key to a movie like this is in finding the right balance between humor and drama , because a premise like this has its obvious implications in both directions . \\nand it all hinges on carrey , who has to balance comic naivet with a real sense of longing and drive to find out what the hell is going on . \\nhe\\'s come a long way from talking butt cheeks in ace ventura . \\nmost fundamentally , it\\'s just plain interesting to follow along as director peter weir shows us just how they can capture a person\\'s life without the person realizing it -- how they coordinate extras , hide cameras and feed automatic lines to actors . \\nthe most interesting thing about the truman show is that most of us can probably imagine some ambitious director pitching a show like this . \\nsure , the most interesting tv genre of the \\'90s has been reality programming and jerry springer\\'s popularity is through the roof , but those people deserve to be humiliated for turning their intimate details over to the airwaves . \\nand when news shows use hidden cameras , it\\'s done in the name of the greater good , not entertainment . \\nbut merge the two and you\\'ve got the truman show . \\nright now , it\\'s implausible -- i mean , the fcc won\\'t let you say the s-word on the air ; do you think they\\'d let you broadcast every detail of a man\\'s life to the entire world without his consent ? \\none day , though , it could happen . \\nand , even though it would mean the end of privacy , people would eat it up . \\nyou know they would . \\n',\n",
              " b'capsule : trippy , hyperspeed action machine from hong kong\\'s accomplished tsui hark . \\nvan damme and rodman have nice chemistry , the stunts are eyepopping , and stuff gets blowed up real good ; what more do you want ? \\ni admit i was all set to loathe double team ; it reeked of cheapjack timing-oriented marketing ( stick dennis rodman in a movie , quick , while he\\'s hot , and do something about jean-claude van damme\\'s flagging career while we\\'re at it ! ) . \\nsurprise -- double team transcends its dumb roots and turns out to be a mess of fun . \\nbring some friends , get some pretzels , and have a blast . \\nvan damme is jack quinn , an ex-agent who is brought back in for \" one last mission \" -- you\\'d think any spy worth his shoe phone would run like hell when he hears those words . \\nbut van damme\\'s character has a pregnant wife who\\'s also a sculptor , and some unpleasant pressure gets used to get him to come through on this mission . \\nhe\\'s been assigned to take down an old enemy , a terrorist named stavros ( mickey rourke , looking oddly subdued ) , who may be back up to his old tricks . \\nin the first showdown between quinn and stavros , the movie wears its ambitions proudly on its sleeve : nonstop action . \\nan amusement park , a hospital , a private \" retired spy \" \\'s retreat , most of rome , various houses , planes , cars and other modes of transport , and the coliseum ( ! ) \\nall become arenas for some of the most bone-rattling shoot-outs and punch-outs filmed . \\nthey are better seen than described and are reason enough to see the film : one jaw-dropping scene has van damme taking on a man who uses a switchblade with his * feet * . \\n ( van damme is a good , dextrous athlete and fighter , but he is often upstaged . ) \\nthere are other nice touches . \\nstavros and quinn both want the same thing : to retire in peace with their families . \\nthat ambition ties them together in various ways , and also humanizes them a bit . \\none of the things about hk action movies is that there\\'s always some form of human element , and that\\'s carried over into this movie as well . \\nit gives weight to scenes that would otherwise be forgettable . \\nalso good is dennis rodman , playing a weapons dealer named yaz -- a character who sticks out like a fistful of broken fingers and who is funny just standing there . \\nrodman is natural on screen ; he\\'s fun to watch , especially when slinging bad guys like basketballs , and deserves to get a movie of his own , based on what\\'s seen here : a lightweight , fast-moving entertainment that showcases all of its pieces excellently . \\n',\n",
              " b'gothic murder-mystery yarns are not a new conceit . \\nin fact , they\\'ve been around in books and on film for many , many years . \\nwithout the proper handling , they come off as old-fashioned , bland , and outdated . \\n \" the gift , \" directed by sam raimi , is a tried-and-true effort that surprises very little , and includes everything from a wide array of suspects and red herrings , to mansions in the deep south with moss trees out front , to the eventual discovery of a waterlogged corpse found in a nearby pond . \\nit\\'s fairly obvious who the killer is ; in fact , i predicted who it would be before the movie began and was correct in my preliminary suspicions . \\nthe film ultimately shouldn\\'t work , but it does , thanks to a sparkling cast that fills each character with so many memorable nuances , the most fun to be had is in simply watching the people interact with each other . \\nannie wilson ( cate blanchett ) is a recently widowed mother of three sons who makes her living giving psychic readings to the residents of her backwater southern hometown . \\nsome of her mainstay clients include valerie barksdale ( hilary swank ) , who is severely abused by her husband donnie ( keanu reeves ) , and buddy cole ( giovanni ribisi ) , an unstable mechanic who is confused by the nightmares he\\'s been having about a mysterious blue diamond that is somehow linked to his father . \\nfor annie , she does not give the readings merely for money , but uses it as a way of seeking solace in finding the good in everyone\\'s future . \\nher late grandmother ( rosemary harris ) told her as a child that it was a gift she was given , and she should always remember that . \\nwhen annie\\'s eldest son is involved in a fight at school , she meets the nice-guy school principal , wayne collins ( greg kinnear ) , whom she finds herself attracted to . \\nbut wayne is engaged to the wealthy jessica king ( katie holmes ) , whom annie immediately gets a negative vibe about . \\nat a party with her best friend linda ( kim dickens ) , annie stumbles upon jessica in a compromising position with lawyer david duncan ( gary cole ) . \\nsoon after , jessica has disappeared , leaving everyone in a frenzy over what could have possibly happened to her , and annie starts to have nightmares and apparitions linking jessica with the vicious redneck donnie barksdale , and the pond behind his home . \\n \" the gift \" may be cliched on a sheer storytelling level , but the performances and tight direction from raimi ( who has redeemed himself for his embarrassing last film , 1999\\'s \" for love of the game \" ) lift the picture up several notches . \\nslowly enveloping the viewer into the many intriguing characters and their individual plights , the disappearance of jessica at the 30-minute mark divulges the movie\\'s true intentions and transforms the proceedings into a taut , at times frightening , horror-mystery . \\nat the center of the film is the exceptional cate blanchett ( 1999\\'s \" the talented mr . ripley \" ) , who turns annie wilson from what could have been little more than a run-of-the-mill protagonist into a very exact , down-to-earth , realistic person with valid troubles and a caring attitude towards those around her . \\nblanchett takes the unextraordinary material and runs with it , giving the entire film a truly classy aura that it otherwise might not have had . \\nwe follow her at every turn because she is so mesmerizing , both as a character and an actress . \\nblanchett isn\\'t the only bright performer , as she is ably supported by one of the best casts of the year . \\nin her first role following her oscar win for 1999\\'s \" boys don\\'t cry , \" hilary swank is excellent as the confused valerie , who seeks guidance from annie , but is too scared to take her biggest advice of all : to leave the grossly abusive donnie . \\nas donnie , keanu reeves ( 2000\\'s \" the watcher \" ) makes an utterly convincing backwoods meanie , so much so that it is difficult to believe he is an actor at all . \\nfor the often-criticized reeves , whose acting abilities have never been the best , this is the biggest compliment he could possibly get , and it is also one of the better performances he has given . \\ngiovanni ribisi ( 2000\\'s \" the boiler room \" ) is heartbreaking as a mentally slow young man who sees annie as his only friend , and wants her to do nothing but help him understand why he is being plagued by bad dreams about his dad . \\nin the small , but pivotal role of the sleazy jessica king , katie holmes ( 2000\\'s \" wonder boys \" ) has turned in yet another stunning supporting turn . \\nher promiscuous role of jessica is one she has never played before , and she is radiant in her few scenes . \\nfinally , kim dickens ( 2000\\'s \" hollow man \" ) makes her usual strong impression as annie\\'s spicy best friend , linda . \\nthe other notable aspect of \" the gift \" is its moody atmosphere that lays such a thickly foreboding air over every scene it\\'s almost suffocating . \\nthanks to cleverly construed editing by arthur coburn and bob murawski , and the successful use of different eerie sounds effects and a very good music score by christopher young , the movie not only achieves a scary undercurrent , but one that is filled with dread . \\nhelped along by a strong screenplay by billy bob thornton and tom epperson , which makes the most of its setting and delightful cast , \" the gift \" is that rarest of thrillers that actually thrills , and offers up a fair share of chills , too . \\nit may not be groundbreakingly original , but it sure is an entertaining ride for the duration of its running time . \\n',\n",
              " b\"what i look for in a movie is not necessarily perfection . \\nsometimes a movie has such strong ideas that despite whatever flaws it may have , i will prefer it to a better-made film that is not as thought-provoking . \\nthe thin red line is flawed but it provokes . \\nterence malick returns to filmmaking 20 years after days of heaven and produces this meditative look at war . \\nunlike this year's saving private ryan , which dwells on war as a necessary evil and explores the moral ambiguities thereof , the thin red line simply says war is waste . \\nwhile that might seem obvious to some , only after experiencing the film do you realize how profound a waste it is . \\nsaving private ryan has an underlying and practical acceptance that war will occur and it has a great cost ; the thin red line says idealistically avoid this at all costs . \\none message is not necessarily more correct than the other . \\nit just depends on one's point of view . \\nin malick's film , war is set in a tropical paradise , and john toll's cinematography is beyond lush . \\nthe setting poses the question , why are we fighting in the face of such beauty ? \\nin saving private ryan , the capture of a german soldier presents the moral quandary of whether to let him go . \\nin the thin red line , the japanese present the moral quandary of war in the first place . \\nthey are just like the americans -- frightened and angry , grieving and praying . \\nall that separates them is war . \\nthe flaw in the thin red line comes in the voice-overs . \\nunbelievable as coming from the characters and sometimes pretentious , sometimes corny , the voice-overs tell us what the images before us already do and are completely unnecessary . \\ndispensing with them , malick could have achieved a tarkovskian grandeur . \\ninstead , he gets distracting self-consciousness . \\naside from that , malick's direction is stunning . \\nthe tracking shots across windswept hills and around transports speeding toward shore are extraordinary . \\nsean penn , elias koteas , and nick nolte give the best performances . \\npenn is subtle as a sergeant trying to hide his humanism , koteas is genuine as a compassionate captain , and nolte startling as a colonel whose blood vessels are about to burst if he cannot win his battle . \\njohn travolta and george clooney are the worst in cameo roles . \\nultimately however , the thin red line's interest is not in the characters and it is not in drama . \\nit has been frequently criticized for its lack of dramatic structure , but malick clearly has different things on his mind . \\nhas no one ever thought that getting dramatic entertainment from war is exploitative ? \\nwhat malick is working with is theme , and in that , the thin red line is most provoking . \\n\",\n",
              " b'the law of crowd pleasing romantic movies states that the two leads must end up together by film\\'s end . \\nif you\\'re not familiar with this law , then maybe you\\'ve seen the trailer for this film which shows that the two leads are together by film\\'s end . \\nnow if you\\'re a regular reader of mine , you\\'ve heard me say this countless times : you know how drive me crazy is going to end , but is the journey to get to that ending worth it ? \\nno , it definitely is not . \\nmelissa joan hart ( from abc\\'s \" sabrina , the teenage witch \" ) likes a hunky stud on the basketball team . \\nadrien grenier is her grungy neighbor who\\'s just broken up with his activist girlfriend . \\napparently he wants to make his ex-girlfriend jealous enough to take him back , and she wants someone to take her to the big year end dance . \\nso the two pretend to date for some reason , but only after hart gives grenier a bath to turn him into a hunky stud . \\nwill grenier like his new popularity and turn on his friends ? \\nwill this crazy scheme work ? \\ndo i care ? \\nthe teen comedy resurgence of late has been surprisingly good in terms of comedy . \\nwhat makes movies like can\\'t hardly wait and 10 things i hate about you work ( and to a lesser extent , she\\'s all that and never been kissed ) is because the writers of those films seem to realize that high school is a joke and write their scripts accordingly . \\ni don\\'t know what the writer\\'s intention was with drive me crazy . \\nthere was some smart comedy in those films to make the obvious endings worth getting to . \\nhere there\\'s nothing . . . \\njust teens whining about who\\'s going to take them to the big dance . \\ndo me a favor kids , go get a job or something . . . \\njust shut the hell up . \\nin all honesty , the best part of this film is the end credits . \\nnow normally when i say that it\\'s followed with the joke \" . . . because the movie is finally over . \" \\nin this case though the end credits really are the most entertaining part of the film . \\nafter the obligatory second playing of britney spears\\' titular song , there\\'s a quick commercial jingle for a burger joint the kids in the film hang out in and a brief rendition of the school song for their high school . \\nnothing great , but more entertaining than anything in the 90 minutes which preceded them . \\nsci-fi fans take note : there are brief appearances from stephen collins ( star trek : the motion picture ) and faye grant ( the tv miniseries \" v \" and \" v : the final battle \" ) . \\n[pg-13] \\n']"
            ]
          },
          "metadata": {},
          "execution_count": 7
        }
      ]
    },
    {
      "cell_type": "code",
      "source": [
        "y[:10]"
      ],
      "metadata": {
        "id": "i6-iVa-IEZ3N",
        "colab": {
          "base_uri": "https://localhost:8080/"
        },
        "outputId": "ee4ac826-5fea-409f-bc16-bcda251eb793"
      },
      "execution_count": null,
      "outputs": [
        {
          "output_type": "execute_result",
          "data": {
            "text/plain": [
              "array([0, 1, 1, 0, 1, 1, 1, 1, 1, 0])"
            ]
          },
          "metadata": {},
          "execution_count": 8
        }
      ]
    },
    {
      "cell_type": "code",
      "source": [
        "movie['target_names']"
      ],
      "metadata": {
        "id": "RxQa41o-Eh8R",
        "colab": {
          "base_uri": "https://localhost:8080/"
        },
        "outputId": "80122a04-1f9d-4c36-8f47-19a4ce8a3b62"
      },
      "execution_count": null,
      "outputs": [
        {
          "output_type": "execute_result",
          "data": {
            "text/plain": [
              "['neg', 'pos']"
            ]
          },
          "metadata": {},
          "execution_count": 9
        }
      ]
    },
    {
      "cell_type": "code",
      "source": [
        "movie['filenames'][:2]"
      ],
      "metadata": {
        "id": "a0GnioClEpFD",
        "colab": {
          "base_uri": "https://localhost:8080/"
        },
        "outputId": "ff593207-b8f3-4314-f724-7e8186523602"
      },
      "execution_count": null,
      "outputs": [
        {
          "output_type": "execute_result",
          "data": {
            "text/plain": [
              "array(['movie_reviews/neg/cv405_21868.txt', 'movie_reviews/pos/cv190_27052.txt'], dtype='<U33')"
            ]
          },
          "metadata": {},
          "execution_count": 10
        }
      ]
    },
    {
      "cell_type": "markdown",
      "source": [
        "Podział danych na treningowe i testowe"
      ],
      "metadata": {
        "id": "K01luEg9ErKn"
      }
    },
    {
      "cell_type": "code",
      "source": [
        "from sklearn.model_selection import train_test_split\n",
        "\n",
        "X_train, X_test, y_train, y_test = train_test_split(X, y, random_state=42)\n",
        "\n",
        "print(f'X_train: {len(X_train)}')\n",
        "print(f'X_test: {len(X_test)}')"
      ],
      "metadata": {
        "id": "vG1ctqbsEuMl",
        "colab": {
          "base_uri": "https://localhost:8080/"
        },
        "outputId": "41ff4cc8-3859-426b-f5c1-7e336a6944a6"
      },
      "execution_count": null,
      "outputs": [
        {
          "output_type": "stream",
          "name": "stdout",
          "text": [
            "X_train: 1500\n",
            "X_test: 500\n"
          ]
        }
      ]
    },
    {
      "cell_type": "code",
      "source": [
        "X_train[0]"
      ],
      "metadata": {
        "id": "xg5Jy1N2E6sd",
        "colab": {
          "base_uri": "https://localhost:8080/"
        },
        "outputId": "25a7a9db-ec5e-4042-8c18-cb6463296d00"
      },
      "execution_count": null,
      "outputs": [
        {
          "output_type": "execute_result",
          "data": {
            "text/plain": [
              "b'unzipped is a cinematic portrait of isaac mizrahi , an artist whose palette is fabric . \\nostensibly , the film is a documentary , but use of that term requires stretching its meaning . \\nmany scenes appear staged , and a great deal of cutting-and-pasting has been done in the editing room . \\nthe cinema verite effect is a conceit -- genuine spontaneity is at a premium , and everyone is aware of and playing to the camera ( especially would-be actresses like cindy crawford ) . \\ndirector douglas keeve ( who was mizrahi\\'s lover at the time ) freely admits that he \" couldn\\'t care less about the truth \" but was more interested in capturing \" the spirit and love in isaac and in fashion . \" \\ndespite violating nearly every rule of \" legitimate \" documentary film making , however , unzipped is a remarkably enjoyable piece of entertainment . \\nwhile it sheds only a little light on the behind-the-scenes world of the fashion industry , it presents a fascinating , if incomplete , picture of designer mizrahi . \\nthis man is the perfect subject for this kind of study -- he\\'s funny , energetic , and eminently quotable . \\nhe has unusual views on just about everything , from fashion ( \" it\\'s about women not wanting to look like cows \" ) to mary tyler moore ( \" between her and jackie kennedy , they shaped this country \" ) to style ( \" it\\'s almost impossible to have style nowadays without the right dogs \" ) . \\nunzipped also gives a glimpse into the creative process by which mizrahi turns an idea into a dress . \\nit\\'s almost certainly different that anyone would imagine . \\nthe designer draws on a variety of sources for his look , including nanook of the north and old bette davis movies , then enlists the aid of a ouija board to help form the collection . \\nin particular , unzipped traces mizrahi\\'s development of his fall 1994 line from its inception in the spring to the final fashion show , which highlights a number of prominent models , including cindy crawford , naomi campbell , kate bush , and linda evangelista . \\non the technical side , a number of interesting choices were made in filming unzipped . \\na variety of film stocks were used : super 8 , 16 mm black-and-white , and 35 mm color . \\nthere is a purpose to this beyond simple artiness -- the stock often serves as an emotional key to the movie , and , during the climactic fashion show , color is used to show the audience\\'s perspective , while black-and-white is for the behind-the- scenes sequences . \\nnevertheless , some viewers will be put off by this treatment . \\nwhile unzipped isn\\'t an expose on the fashion industry per se , keeve has enough clips of petulant models to make the viewer realize how tame robert altman was with ready to wear . \\noverall , however , this movie is far more about mizrahi than anything else , and only when viewed from that perspective does unzipped succeed . \\nwhen the designer declares that \" everything is frustrating except designing clothes -- that\\'s beautiful and liberating , \" it fits perfectly with the image of him that unzipped has constructed . \\n'"
            ]
          },
          "metadata": {},
          "execution_count": 12
        }
      ]
    },
    {
      "cell_type": "code",
      "source": [
        "from sklearn.feature_extraction.text import TfidfVectorizer\n",
        "\n",
        "tfidf = TfidfVectorizer(max_features=3000)\n",
        "X_train = tfidf.fit_transform(X_train)\n",
        "X_test = tfidf.transform(X_test)\n",
        "\n",
        "print(f'X_train shape: {X_train.shape}')\n",
        "print(f'X_test shape: {X_test.shape}')"
      ],
      "metadata": {
        "id": "4kXRHokeFOh_",
        "colab": {
          "base_uri": "https://localhost:8080/"
        },
        "outputId": "e34d7709-4b50-4490-e4af-992161a5c6b6"
      },
      "execution_count": null,
      "outputs": [
        {
          "output_type": "stream",
          "name": "stdout",
          "text": [
            "X_train shape: (1500, 3000)\n",
            "X_test shape: (500, 3000)\n"
          ]
        }
      ]
    },
    {
      "cell_type": "code",
      "source": [
        "df = pd.DataFrame(data=tfidf.fit_transform(X).toarray(),\n",
        "                  columns=tfidf.get_feature_names())\n",
        "df"
      ],
      "metadata": {
        "colab": {
          "base_uri": "https://localhost:8080/",
          "height": 496
        },
        "id": "HXIpWilyRb5o",
        "outputId": "e14175c6-cfcc-4dd9-c43a-13b730e2aee6"
      },
      "execution_count": null,
      "outputs": [
        {
          "output_type": "stream",
          "name": "stderr",
          "text": [
            "/usr/local/lib/python3.7/dist-packages/sklearn/utils/deprecation.py:87: FutureWarning:\n",
            "\n",
            "Function get_feature_names is deprecated; get_feature_names is deprecated in 1.0 and will be removed in 1.2. Please use get_feature_names_out instead.\n",
            "\n"
          ]
        },
        {
          "output_type": "execute_result",
          "data": {
            "text/plain": [
              "           000   10       100   12   13        15   17  1993  1994  1995  ...  \\\n",
              "0     0.000000  0.0  0.000000  0.0  0.0  0.050184  0.0   0.0   0.0   0.0  ...   \n",
              "1     0.000000  0.0  0.000000  0.0  0.0  0.000000  0.0   0.0   0.0   0.0  ...   \n",
              "2     0.000000  0.0  0.000000  0.0  0.0  0.000000  0.0   0.0   0.0   0.0  ...   \n",
              "3     0.000000  0.0  0.000000  0.0  0.0  0.000000  0.0   0.0   0.0   0.0  ...   \n",
              "4     0.000000  0.0  0.000000  0.0  0.0  0.000000  0.0   0.0   0.0   0.0  ...   \n",
              "...        ...  ...       ...  ...  ...       ...  ...   ...   ...   ...  ...   \n",
              "1995  0.000000  0.0  0.000000  0.0  0.0  0.000000  0.0   0.0   0.0   0.0  ...   \n",
              "1996  0.000000  0.0  0.000000  0.0  0.0  0.000000  0.0   0.0   0.0   0.0  ...   \n",
              "1997  0.000000  0.0  0.000000  0.0  0.0  0.000000  0.0   0.0   0.0   0.0  ...   \n",
              "1998  0.000000  0.0  0.000000  0.0  0.0  0.000000  0.0   0.0   0.0   0.0  ...   \n",
              "1999  0.084187  0.0  0.044319  0.0  0.0  0.000000  0.0   0.0   0.0   0.0  ...   \n",
              "\n",
              "          yes       yet      york       you     young  younger      your  \\\n",
              "0     0.03675  0.000000  0.000000  0.074260  0.000000      0.0  0.051600   \n",
              "1     0.00000  0.000000  0.000000  0.015232  0.000000      0.0  0.000000   \n",
              "2     0.00000  0.000000  0.000000  0.139719  0.036215      0.0  0.000000   \n",
              "3     0.00000  0.000000  0.000000  0.022860  0.000000      0.0  0.000000   \n",
              "4     0.00000  0.000000  0.000000  0.000000  0.000000      0.0  0.000000   \n",
              "...       ...       ...       ...       ...       ...      ...       ...   \n",
              "1995  0.00000  0.022857  0.000000  0.000000  0.022286      0.0  0.021337   \n",
              "1996  0.00000  0.000000  0.000000  0.000000  0.000000      0.0  0.000000   \n",
              "1997  0.02517  0.000000  0.027138  0.020344  0.000000      0.0  0.035341   \n",
              "1998  0.00000  0.000000  0.000000  0.000000  0.000000      0.0  0.000000   \n",
              "1999  0.00000  0.000000  0.036037  0.000000  0.000000      0.0  0.000000   \n",
              "\n",
              "      yourself  youth  zero  \n",
              "0          0.0    0.0   0.0  \n",
              "1          0.0    0.0   0.0  \n",
              "2          0.0    0.0   0.0  \n",
              "3          0.0    0.0   0.0  \n",
              "4          0.0    0.0   0.0  \n",
              "...        ...    ...   ...  \n",
              "1995       0.0    0.0   0.0  \n",
              "1996       0.0    0.0   0.0  \n",
              "1997       0.0    0.0   0.0  \n",
              "1998       0.0    0.0   0.0  \n",
              "1999       0.0    0.0   0.0  \n",
              "\n",
              "[2000 rows x 3000 columns]"
            ],
            "text/html": [
              "\n",
              "  <div id=\"df-306f856c-4b2a-4a69-89e8-59dac8c15b0a\">\n",
              "    <div class=\"colab-df-container\">\n",
              "      <div>\n",
              "<style scoped>\n",
              "    .dataframe tbody tr th:only-of-type {\n",
              "        vertical-align: middle;\n",
              "    }\n",
              "\n",
              "    .dataframe tbody tr th {\n",
              "        vertical-align: top;\n",
              "    }\n",
              "\n",
              "    .dataframe thead th {\n",
              "        text-align: right;\n",
              "    }\n",
              "</style>\n",
              "<table border=\"1\" class=\"dataframe\">\n",
              "  <thead>\n",
              "    <tr style=\"text-align: right;\">\n",
              "      <th></th>\n",
              "      <th>000</th>\n",
              "      <th>10</th>\n",
              "      <th>100</th>\n",
              "      <th>12</th>\n",
              "      <th>13</th>\n",
              "      <th>15</th>\n",
              "      <th>17</th>\n",
              "      <th>1993</th>\n",
              "      <th>1994</th>\n",
              "      <th>1995</th>\n",
              "      <th>...</th>\n",
              "      <th>yes</th>\n",
              "      <th>yet</th>\n",
              "      <th>york</th>\n",
              "      <th>you</th>\n",
              "      <th>young</th>\n",
              "      <th>younger</th>\n",
              "      <th>your</th>\n",
              "      <th>yourself</th>\n",
              "      <th>youth</th>\n",
              "      <th>zero</th>\n",
              "    </tr>\n",
              "  </thead>\n",
              "  <tbody>\n",
              "    <tr>\n",
              "      <th>0</th>\n",
              "      <td>0.000000</td>\n",
              "      <td>0.0</td>\n",
              "      <td>0.000000</td>\n",
              "      <td>0.0</td>\n",
              "      <td>0.0</td>\n",
              "      <td>0.050184</td>\n",
              "      <td>0.0</td>\n",
              "      <td>0.0</td>\n",
              "      <td>0.0</td>\n",
              "      <td>0.0</td>\n",
              "      <td>...</td>\n",
              "      <td>0.03675</td>\n",
              "      <td>0.000000</td>\n",
              "      <td>0.000000</td>\n",
              "      <td>0.074260</td>\n",
              "      <td>0.000000</td>\n",
              "      <td>0.0</td>\n",
              "      <td>0.051600</td>\n",
              "      <td>0.0</td>\n",
              "      <td>0.0</td>\n",
              "      <td>0.0</td>\n",
              "    </tr>\n",
              "    <tr>\n",
              "      <th>1</th>\n",
              "      <td>0.000000</td>\n",
              "      <td>0.0</td>\n",
              "      <td>0.000000</td>\n",
              "      <td>0.0</td>\n",
              "      <td>0.0</td>\n",
              "      <td>0.000000</td>\n",
              "      <td>0.0</td>\n",
              "      <td>0.0</td>\n",
              "      <td>0.0</td>\n",
              "      <td>0.0</td>\n",
              "      <td>...</td>\n",
              "      <td>0.00000</td>\n",
              "      <td>0.000000</td>\n",
              "      <td>0.000000</td>\n",
              "      <td>0.015232</td>\n",
              "      <td>0.000000</td>\n",
              "      <td>0.0</td>\n",
              "      <td>0.000000</td>\n",
              "      <td>0.0</td>\n",
              "      <td>0.0</td>\n",
              "      <td>0.0</td>\n",
              "    </tr>\n",
              "    <tr>\n",
              "      <th>2</th>\n",
              "      <td>0.000000</td>\n",
              "      <td>0.0</td>\n",
              "      <td>0.000000</td>\n",
              "      <td>0.0</td>\n",
              "      <td>0.0</td>\n",
              "      <td>0.000000</td>\n",
              "      <td>0.0</td>\n",
              "      <td>0.0</td>\n",
              "      <td>0.0</td>\n",
              "      <td>0.0</td>\n",
              "      <td>...</td>\n",
              "      <td>0.00000</td>\n",
              "      <td>0.000000</td>\n",
              "      <td>0.000000</td>\n",
              "      <td>0.139719</td>\n",
              "      <td>0.036215</td>\n",
              "      <td>0.0</td>\n",
              "      <td>0.000000</td>\n",
              "      <td>0.0</td>\n",
              "      <td>0.0</td>\n",
              "      <td>0.0</td>\n",
              "    </tr>\n",
              "    <tr>\n",
              "      <th>3</th>\n",
              "      <td>0.000000</td>\n",
              "      <td>0.0</td>\n",
              "      <td>0.000000</td>\n",
              "      <td>0.0</td>\n",
              "      <td>0.0</td>\n",
              "      <td>0.000000</td>\n",
              "      <td>0.0</td>\n",
              "      <td>0.0</td>\n",
              "      <td>0.0</td>\n",
              "      <td>0.0</td>\n",
              "      <td>...</td>\n",
              "      <td>0.00000</td>\n",
              "      <td>0.000000</td>\n",
              "      <td>0.000000</td>\n",
              "      <td>0.022860</td>\n",
              "      <td>0.000000</td>\n",
              "      <td>0.0</td>\n",
              "      <td>0.000000</td>\n",
              "      <td>0.0</td>\n",
              "      <td>0.0</td>\n",
              "      <td>0.0</td>\n",
              "    </tr>\n",
              "    <tr>\n",
              "      <th>4</th>\n",
              "      <td>0.000000</td>\n",
              "      <td>0.0</td>\n",
              "      <td>0.000000</td>\n",
              "      <td>0.0</td>\n",
              "      <td>0.0</td>\n",
              "      <td>0.000000</td>\n",
              "      <td>0.0</td>\n",
              "      <td>0.0</td>\n",
              "      <td>0.0</td>\n",
              "      <td>0.0</td>\n",
              "      <td>...</td>\n",
              "      <td>0.00000</td>\n",
              "      <td>0.000000</td>\n",
              "      <td>0.000000</td>\n",
              "      <td>0.000000</td>\n",
              "      <td>0.000000</td>\n",
              "      <td>0.0</td>\n",
              "      <td>0.000000</td>\n",
              "      <td>0.0</td>\n",
              "      <td>0.0</td>\n",
              "      <td>0.0</td>\n",
              "    </tr>\n",
              "    <tr>\n",
              "      <th>...</th>\n",
              "      <td>...</td>\n",
              "      <td>...</td>\n",
              "      <td>...</td>\n",
              "      <td>...</td>\n",
              "      <td>...</td>\n",
              "      <td>...</td>\n",
              "      <td>...</td>\n",
              "      <td>...</td>\n",
              "      <td>...</td>\n",
              "      <td>...</td>\n",
              "      <td>...</td>\n",
              "      <td>...</td>\n",
              "      <td>...</td>\n",
              "      <td>...</td>\n",
              "      <td>...</td>\n",
              "      <td>...</td>\n",
              "      <td>...</td>\n",
              "      <td>...</td>\n",
              "      <td>...</td>\n",
              "      <td>...</td>\n",
              "      <td>...</td>\n",
              "    </tr>\n",
              "    <tr>\n",
              "      <th>1995</th>\n",
              "      <td>0.000000</td>\n",
              "      <td>0.0</td>\n",
              "      <td>0.000000</td>\n",
              "      <td>0.0</td>\n",
              "      <td>0.0</td>\n",
              "      <td>0.000000</td>\n",
              "      <td>0.0</td>\n",
              "      <td>0.0</td>\n",
              "      <td>0.0</td>\n",
              "      <td>0.0</td>\n",
              "      <td>...</td>\n",
              "      <td>0.00000</td>\n",
              "      <td>0.022857</td>\n",
              "      <td>0.000000</td>\n",
              "      <td>0.000000</td>\n",
              "      <td>0.022286</td>\n",
              "      <td>0.0</td>\n",
              "      <td>0.021337</td>\n",
              "      <td>0.0</td>\n",
              "      <td>0.0</td>\n",
              "      <td>0.0</td>\n",
              "    </tr>\n",
              "    <tr>\n",
              "      <th>1996</th>\n",
              "      <td>0.000000</td>\n",
              "      <td>0.0</td>\n",
              "      <td>0.000000</td>\n",
              "      <td>0.0</td>\n",
              "      <td>0.0</td>\n",
              "      <td>0.000000</td>\n",
              "      <td>0.0</td>\n",
              "      <td>0.0</td>\n",
              "      <td>0.0</td>\n",
              "      <td>0.0</td>\n",
              "      <td>...</td>\n",
              "      <td>0.00000</td>\n",
              "      <td>0.000000</td>\n",
              "      <td>0.000000</td>\n",
              "      <td>0.000000</td>\n",
              "      <td>0.000000</td>\n",
              "      <td>0.0</td>\n",
              "      <td>0.000000</td>\n",
              "      <td>0.0</td>\n",
              "      <td>0.0</td>\n",
              "      <td>0.0</td>\n",
              "    </tr>\n",
              "    <tr>\n",
              "      <th>1997</th>\n",
              "      <td>0.000000</td>\n",
              "      <td>0.0</td>\n",
              "      <td>0.000000</td>\n",
              "      <td>0.0</td>\n",
              "      <td>0.0</td>\n",
              "      <td>0.000000</td>\n",
              "      <td>0.0</td>\n",
              "      <td>0.0</td>\n",
              "      <td>0.0</td>\n",
              "      <td>0.0</td>\n",
              "      <td>...</td>\n",
              "      <td>0.02517</td>\n",
              "      <td>0.000000</td>\n",
              "      <td>0.027138</td>\n",
              "      <td>0.020344</td>\n",
              "      <td>0.000000</td>\n",
              "      <td>0.0</td>\n",
              "      <td>0.035341</td>\n",
              "      <td>0.0</td>\n",
              "      <td>0.0</td>\n",
              "      <td>0.0</td>\n",
              "    </tr>\n",
              "    <tr>\n",
              "      <th>1998</th>\n",
              "      <td>0.000000</td>\n",
              "      <td>0.0</td>\n",
              "      <td>0.000000</td>\n",
              "      <td>0.0</td>\n",
              "      <td>0.0</td>\n",
              "      <td>0.000000</td>\n",
              "      <td>0.0</td>\n",
              "      <td>0.0</td>\n",
              "      <td>0.0</td>\n",
              "      <td>0.0</td>\n",
              "      <td>...</td>\n",
              "      <td>0.00000</td>\n",
              "      <td>0.000000</td>\n",
              "      <td>0.000000</td>\n",
              "      <td>0.000000</td>\n",
              "      <td>0.000000</td>\n",
              "      <td>0.0</td>\n",
              "      <td>0.000000</td>\n",
              "      <td>0.0</td>\n",
              "      <td>0.0</td>\n",
              "      <td>0.0</td>\n",
              "    </tr>\n",
              "    <tr>\n",
              "      <th>1999</th>\n",
              "      <td>0.084187</td>\n",
              "      <td>0.0</td>\n",
              "      <td>0.044319</td>\n",
              "      <td>0.0</td>\n",
              "      <td>0.0</td>\n",
              "      <td>0.000000</td>\n",
              "      <td>0.0</td>\n",
              "      <td>0.0</td>\n",
              "      <td>0.0</td>\n",
              "      <td>0.0</td>\n",
              "      <td>...</td>\n",
              "      <td>0.00000</td>\n",
              "      <td>0.000000</td>\n",
              "      <td>0.036037</td>\n",
              "      <td>0.000000</td>\n",
              "      <td>0.000000</td>\n",
              "      <td>0.0</td>\n",
              "      <td>0.000000</td>\n",
              "      <td>0.0</td>\n",
              "      <td>0.0</td>\n",
              "      <td>0.0</td>\n",
              "    </tr>\n",
              "  </tbody>\n",
              "</table>\n",
              "<p>2000 rows × 3000 columns</p>\n",
              "</div>\n",
              "      <button class=\"colab-df-convert\" onclick=\"convertToInteractive('df-306f856c-4b2a-4a69-89e8-59dac8c15b0a')\"\n",
              "              title=\"Convert this dataframe to an interactive table.\"\n",
              "              style=\"display:none;\">\n",
              "        \n",
              "  <svg xmlns=\"http://www.w3.org/2000/svg\" height=\"24px\"viewBox=\"0 0 24 24\"\n",
              "       width=\"24px\">\n",
              "    <path d=\"M0 0h24v24H0V0z\" fill=\"none\"/>\n",
              "    <path d=\"M18.56 5.44l.94 2.06.94-2.06 2.06-.94-2.06-.94-.94-2.06-.94 2.06-2.06.94zm-11 1L8.5 8.5l.94-2.06 2.06-.94-2.06-.94L8.5 2.5l-.94 2.06-2.06.94zm10 10l.94 2.06.94-2.06 2.06-.94-2.06-.94-.94-2.06-.94 2.06-2.06.94z\"/><path d=\"M17.41 7.96l-1.37-1.37c-.4-.4-.92-.59-1.43-.59-.52 0-1.04.2-1.43.59L10.3 9.45l-7.72 7.72c-.78.78-.78 2.05 0 2.83L4 21.41c.39.39.9.59 1.41.59.51 0 1.02-.2 1.41-.59l7.78-7.78 2.81-2.81c.8-.78.8-2.07 0-2.86zM5.41 20L4 18.59l7.72-7.72 1.47 1.35L5.41 20z\"/>\n",
              "  </svg>\n",
              "      </button>\n",
              "      \n",
              "  <style>\n",
              "    .colab-df-container {\n",
              "      display:flex;\n",
              "      flex-wrap:wrap;\n",
              "      gap: 12px;\n",
              "    }\n",
              "\n",
              "    .colab-df-convert {\n",
              "      background-color: #E8F0FE;\n",
              "      border: none;\n",
              "      border-radius: 50%;\n",
              "      cursor: pointer;\n",
              "      display: none;\n",
              "      fill: #1967D2;\n",
              "      height: 32px;\n",
              "      padding: 0 0 0 0;\n",
              "      width: 32px;\n",
              "    }\n",
              "\n",
              "    .colab-df-convert:hover {\n",
              "      background-color: #E2EBFA;\n",
              "      box-shadow: 0px 1px 2px rgba(60, 64, 67, 0.3), 0px 1px 3px 1px rgba(60, 64, 67, 0.15);\n",
              "      fill: #174EA6;\n",
              "    }\n",
              "\n",
              "    [theme=dark] .colab-df-convert {\n",
              "      background-color: #3B4455;\n",
              "      fill: #D2E3FC;\n",
              "    }\n",
              "\n",
              "    [theme=dark] .colab-df-convert:hover {\n",
              "      background-color: #434B5C;\n",
              "      box-shadow: 0px 1px 3px 1px rgba(0, 0, 0, 0.15);\n",
              "      filter: drop-shadow(0px 1px 2px rgba(0, 0, 0, 0.3));\n",
              "      fill: #FFFFFF;\n",
              "    }\n",
              "  </style>\n",
              "\n",
              "      <script>\n",
              "        const buttonEl =\n",
              "          document.querySelector('#df-306f856c-4b2a-4a69-89e8-59dac8c15b0a button.colab-df-convert');\n",
              "        buttonEl.style.display =\n",
              "          google.colab.kernel.accessAllowed ? 'block' : 'none';\n",
              "\n",
              "        async function convertToInteractive(key) {\n",
              "          const element = document.querySelector('#df-306f856c-4b2a-4a69-89e8-59dac8c15b0a');\n",
              "          const dataTable =\n",
              "            await google.colab.kernel.invokeFunction('convertToInteractive',\n",
              "                                                     [key], {});\n",
              "          if (!dataTable) return;\n",
              "\n",
              "          const docLinkHtml = 'Like what you see? Visit the ' +\n",
              "            '<a target=\"_blank\" href=https://colab.research.google.com/notebooks/data_table.ipynb>data table notebook</a>'\n",
              "            + ' to learn more about interactive tables.';\n",
              "          element.innerHTML = '';\n",
              "          dataTable['output_type'] = 'display_data';\n",
              "          await google.colab.output.renderOutput(dataTable, element);\n",
              "          const docLink = document.createElement('div');\n",
              "          docLink.innerHTML = docLinkHtml;\n",
              "          element.appendChild(docLink);\n",
              "        }\n",
              "      </script>\n",
              "    </div>\n",
              "  </div>\n",
              "  "
            ]
          },
          "metadata": {},
          "execution_count": 27
        }
      ]
    },
    {
      "cell_type": "markdown",
      "source": [
        "Model"
      ],
      "metadata": {
        "id": "hxlo_LmbFT3W"
      }
    },
    {
      "cell_type": "code",
      "source": [
        "from sklearn.model_selection import GridSearchCV\n",
        "from sklearn.naive_bayes import MultinomialNB\n",
        "\n",
        "classifier = MultinomialNB()\n",
        "params = {'alpha': np.arange(0.1, 5, 0.1),\n",
        "          'fit_prior': [True, False]}\n",
        "\n",
        "grid_search = GridSearchCV(estimator=classifier, param_grid=params, scoring='accuracy', cv=3)\n",
        "grid_search.fit(X_train, y_train)\n",
        "grid_search.best_params_"
      ],
      "metadata": {
        "colab": {
          "base_uri": "https://localhost:8080/"
        },
        "id": "Heh9v4AZJATY",
        "outputId": "351ff1d2-4e22-43f6-f5c6-5da897901b1a"
      },
      "execution_count": null,
      "outputs": [
        {
          "output_type": "execute_result",
          "data": {
            "text/plain": [
              "{'alpha': 0.4, 'fit_prior': False}"
            ]
          },
          "metadata": {},
          "execution_count": 14
        }
      ]
    },
    {
      "cell_type": "code",
      "source": [
        "classifier = MultinomialNB(alpha=0.4, fit_prior=False)\n",
        "classifier.fit(X_train, y_train)\n",
        "classifier.score(X_test, y_test)"
      ],
      "metadata": {
        "id": "Z63qsKWaFvKp",
        "colab": {
          "base_uri": "https://localhost:8080/"
        },
        "outputId": "348422d4-74de-4313-a7d4-e39659789f55"
      },
      "execution_count": null,
      "outputs": [
        {
          "output_type": "execute_result",
          "data": {
            "text/plain": [
              "0.808"
            ]
          },
          "metadata": {},
          "execution_count": 15
        }
      ]
    },
    {
      "cell_type": "markdown",
      "source": [
        "Ocena modelu"
      ],
      "metadata": {
        "id": "nvB9AXo2F7BQ"
      }
    },
    {
      "cell_type": "code",
      "source": [
        "from sklearn.metrics import confusion_matrix\n",
        "\n",
        "y_pred = classifier.predict(X_test)\n",
        "cm = confusion_matrix(y_test, y_pred)\n",
        "cm"
      ],
      "metadata": {
        "id": "Zw_v0F5KFwze",
        "colab": {
          "base_uri": "https://localhost:8080/"
        },
        "outputId": "7f9682d6-0528-4e42-d6e8-38627be26462"
      },
      "execution_count": null,
      "outputs": [
        {
          "output_type": "execute_result",
          "data": {
            "text/plain": [
              "array([[198,  42],\n",
              "       [ 54, 206]])"
            ]
          },
          "metadata": {},
          "execution_count": 16
        }
      ]
    },
    {
      "cell_type": "code",
      "source": [
        "import plotly.figure_factory as ff\n",
        "\n",
        "def plot_confusion_matrix(cm):\n",
        "    cm = cm[::-1]\n",
        "    cm = pd.DataFrame(cm, columns=['negative', 'positive'], index=['positive', 'negative'])\n",
        "\n",
        "    fig = ff.create_annotated_heatmap(z=cm.values, x=list(cm.columns), y=list(cm.index),\n",
        "                                      colorscale='ice', showscale=True, reversescale=True)\n",
        "    fig.update_layout(width=400, height=400, title='Confusion Matrix', font_size=16)\n",
        "    fig.show()\n",
        "\n",
        "plot_confusion_matrix(cm)"
      ],
      "metadata": {
        "id": "bDOMNpslF208",
        "colab": {
          "base_uri": "https://localhost:8080/",
          "height": 417
        },
        "outputId": "8001f300-c900-4829-b64d-50fd9b96ea92"
      },
      "execution_count": null,
      "outputs": [
        {
          "output_type": "display_data",
          "data": {
            "text/html": [
              "<html>\n",
              "<head><meta charset=\"utf-8\" /></head>\n",
              "<body>\n",
              "    <div>            <script src=\"https://cdnjs.cloudflare.com/ajax/libs/mathjax/2.7.5/MathJax.js?config=TeX-AMS-MML_SVG\"></script><script type=\"text/javascript\">if (window.MathJax) {MathJax.Hub.Config({SVG: {font: \"STIX-Web\"}});}</script>                <script type=\"text/javascript\">window.PlotlyConfig = {MathJaxConfig: 'local'};</script>\n",
              "        <script src=\"https://cdn.plot.ly/plotly-2.8.3.min.js\"></script>                <div id=\"a27be9ff-4058-42cb-b9c4-850285ac2f9e\" class=\"plotly-graph-div\" style=\"height:400px; width:400px;\"></div>            <script type=\"text/javascript\">                                    window.PLOTLYENV=window.PLOTLYENV || {};                                    if (document.getElementById(\"a27be9ff-4058-42cb-b9c4-850285ac2f9e\")) {                    Plotly.newPlot(                        \"a27be9ff-4058-42cb-b9c4-850285ac2f9e\",                        [{\"colorscale\":[[0.0,\"rgb(3, 5, 18)\"],[0.09090909090909091,\"rgb(25, 25, 51)\"],[0.18181818181818182,\"rgb(44, 42, 87)\"],[0.2727272727272727,\"rgb(58, 60, 125)\"],[0.36363636363636365,\"rgb(62, 83, 160)\"],[0.45454545454545453,\"rgb(62, 109, 178)\"],[0.5454545454545454,\"rgb(72, 134, 187)\"],[0.6363636363636364,\"rgb(89, 159, 196)\"],[0.7272727272727273,\"rgb(114, 184, 205)\"],[0.8181818181818182,\"rgb(149, 207, 216)\"],[0.9090909090909091,\"rgb(192, 229, 232)\"],[1.0,\"rgb(234, 252, 253)\"]],\"reversescale\":true,\"showscale\":true,\"x\":[\"negative\",\"positive\"],\"y\":[\"positive\",\"negative\"],\"z\":[[54,206],[198,42]],\"type\":\"heatmap\"}],                        {\"annotations\":[{\"font\":{\"color\":\"#000000\"},\"showarrow\":false,\"text\":\"54\",\"x\":\"negative\",\"xref\":\"x\",\"y\":\"positive\",\"yref\":\"y\"},{\"font\":{\"color\":\"#FFFFFF\"},\"showarrow\":false,\"text\":\"206\",\"x\":\"positive\",\"xref\":\"x\",\"y\":\"positive\",\"yref\":\"y\"},{\"font\":{\"color\":\"#FFFFFF\"},\"showarrow\":false,\"text\":\"198\",\"x\":\"negative\",\"xref\":\"x\",\"y\":\"negative\",\"yref\":\"y\"},{\"font\":{\"color\":\"#000000\"},\"showarrow\":false,\"text\":\"42\",\"x\":\"positive\",\"xref\":\"x\",\"y\":\"negative\",\"yref\":\"y\"}],\"xaxis\":{\"dtick\":1,\"gridcolor\":\"rgb(0, 0, 0)\",\"side\":\"top\",\"ticks\":\"\"},\"yaxis\":{\"dtick\":1,\"ticks\":\"\",\"ticksuffix\":\"  \"},\"template\":{\"data\":{\"bar\":[{\"error_x\":{\"color\":\"#2a3f5f\"},\"error_y\":{\"color\":\"#2a3f5f\"},\"marker\":{\"line\":{\"color\":\"#E5ECF6\",\"width\":0.5},\"pattern\":{\"fillmode\":\"overlay\",\"size\":10,\"solidity\":0.2}},\"type\":\"bar\"}],\"barpolar\":[{\"marker\":{\"line\":{\"color\":\"#E5ECF6\",\"width\":0.5},\"pattern\":{\"fillmode\":\"overlay\",\"size\":10,\"solidity\":0.2}},\"type\":\"barpolar\"}],\"carpet\":[{\"aaxis\":{\"endlinecolor\":\"#2a3f5f\",\"gridcolor\":\"white\",\"linecolor\":\"white\",\"minorgridcolor\":\"white\",\"startlinecolor\":\"#2a3f5f\"},\"baxis\":{\"endlinecolor\":\"#2a3f5f\",\"gridcolor\":\"white\",\"linecolor\":\"white\",\"minorgridcolor\":\"white\",\"startlinecolor\":\"#2a3f5f\"},\"type\":\"carpet\"}],\"choropleth\":[{\"colorbar\":{\"outlinewidth\":0,\"ticks\":\"\"},\"type\":\"choropleth\"}],\"contour\":[{\"colorbar\":{\"outlinewidth\":0,\"ticks\":\"\"},\"colorscale\":[[0.0,\"#0d0887\"],[0.1111111111111111,\"#46039f\"],[0.2222222222222222,\"#7201a8\"],[0.3333333333333333,\"#9c179e\"],[0.4444444444444444,\"#bd3786\"],[0.5555555555555556,\"#d8576b\"],[0.6666666666666666,\"#ed7953\"],[0.7777777777777778,\"#fb9f3a\"],[0.8888888888888888,\"#fdca26\"],[1.0,\"#f0f921\"]],\"type\":\"contour\"}],\"contourcarpet\":[{\"colorbar\":{\"outlinewidth\":0,\"ticks\":\"\"},\"type\":\"contourcarpet\"}],\"heatmap\":[{\"colorbar\":{\"outlinewidth\":0,\"ticks\":\"\"},\"colorscale\":[[0.0,\"#0d0887\"],[0.1111111111111111,\"#46039f\"],[0.2222222222222222,\"#7201a8\"],[0.3333333333333333,\"#9c179e\"],[0.4444444444444444,\"#bd3786\"],[0.5555555555555556,\"#d8576b\"],[0.6666666666666666,\"#ed7953\"],[0.7777777777777778,\"#fb9f3a\"],[0.8888888888888888,\"#fdca26\"],[1.0,\"#f0f921\"]],\"type\":\"heatmap\"}],\"heatmapgl\":[{\"colorbar\":{\"outlinewidth\":0,\"ticks\":\"\"},\"colorscale\":[[0.0,\"#0d0887\"],[0.1111111111111111,\"#46039f\"],[0.2222222222222222,\"#7201a8\"],[0.3333333333333333,\"#9c179e\"],[0.4444444444444444,\"#bd3786\"],[0.5555555555555556,\"#d8576b\"],[0.6666666666666666,\"#ed7953\"],[0.7777777777777778,\"#fb9f3a\"],[0.8888888888888888,\"#fdca26\"],[1.0,\"#f0f921\"]],\"type\":\"heatmapgl\"}],\"histogram\":[{\"marker\":{\"pattern\":{\"fillmode\":\"overlay\",\"size\":10,\"solidity\":0.2}},\"type\":\"histogram\"}],\"histogram2d\":[{\"colorbar\":{\"outlinewidth\":0,\"ticks\":\"\"},\"colorscale\":[[0.0,\"#0d0887\"],[0.1111111111111111,\"#46039f\"],[0.2222222222222222,\"#7201a8\"],[0.3333333333333333,\"#9c179e\"],[0.4444444444444444,\"#bd3786\"],[0.5555555555555556,\"#d8576b\"],[0.6666666666666666,\"#ed7953\"],[0.7777777777777778,\"#fb9f3a\"],[0.8888888888888888,\"#fdca26\"],[1.0,\"#f0f921\"]],\"type\":\"histogram2d\"}],\"histogram2dcontour\":[{\"colorbar\":{\"outlinewidth\":0,\"ticks\":\"\"},\"colorscale\":[[0.0,\"#0d0887\"],[0.1111111111111111,\"#46039f\"],[0.2222222222222222,\"#7201a8\"],[0.3333333333333333,\"#9c179e\"],[0.4444444444444444,\"#bd3786\"],[0.5555555555555556,\"#d8576b\"],[0.6666666666666666,\"#ed7953\"],[0.7777777777777778,\"#fb9f3a\"],[0.8888888888888888,\"#fdca26\"],[1.0,\"#f0f921\"]],\"type\":\"histogram2dcontour\"}],\"mesh3d\":[{\"colorbar\":{\"outlinewidth\":0,\"ticks\":\"\"},\"type\":\"mesh3d\"}],\"parcoords\":[{\"line\":{\"colorbar\":{\"outlinewidth\":0,\"ticks\":\"\"}},\"type\":\"parcoords\"}],\"pie\":[{\"automargin\":true,\"type\":\"pie\"}],\"scatter\":[{\"marker\":{\"colorbar\":{\"outlinewidth\":0,\"ticks\":\"\"}},\"type\":\"scatter\"}],\"scatter3d\":[{\"line\":{\"colorbar\":{\"outlinewidth\":0,\"ticks\":\"\"}},\"marker\":{\"colorbar\":{\"outlinewidth\":0,\"ticks\":\"\"}},\"type\":\"scatter3d\"}],\"scattercarpet\":[{\"marker\":{\"colorbar\":{\"outlinewidth\":0,\"ticks\":\"\"}},\"type\":\"scattercarpet\"}],\"scattergeo\":[{\"marker\":{\"colorbar\":{\"outlinewidth\":0,\"ticks\":\"\"}},\"type\":\"scattergeo\"}],\"scattergl\":[{\"marker\":{\"colorbar\":{\"outlinewidth\":0,\"ticks\":\"\"}},\"type\":\"scattergl\"}],\"scattermapbox\":[{\"marker\":{\"colorbar\":{\"outlinewidth\":0,\"ticks\":\"\"}},\"type\":\"scattermapbox\"}],\"scatterpolar\":[{\"marker\":{\"colorbar\":{\"outlinewidth\":0,\"ticks\":\"\"}},\"type\":\"scatterpolar\"}],\"scatterpolargl\":[{\"marker\":{\"colorbar\":{\"outlinewidth\":0,\"ticks\":\"\"}},\"type\":\"scatterpolargl\"}],\"scatterternary\":[{\"marker\":{\"colorbar\":{\"outlinewidth\":0,\"ticks\":\"\"}},\"type\":\"scatterternary\"}],\"surface\":[{\"colorbar\":{\"outlinewidth\":0,\"ticks\":\"\"},\"colorscale\":[[0.0,\"#0d0887\"],[0.1111111111111111,\"#46039f\"],[0.2222222222222222,\"#7201a8\"],[0.3333333333333333,\"#9c179e\"],[0.4444444444444444,\"#bd3786\"],[0.5555555555555556,\"#d8576b\"],[0.6666666666666666,\"#ed7953\"],[0.7777777777777778,\"#fb9f3a\"],[0.8888888888888888,\"#fdca26\"],[1.0,\"#f0f921\"]],\"type\":\"surface\"}],\"table\":[{\"cells\":{\"fill\":{\"color\":\"#EBF0F8\"},\"line\":{\"color\":\"white\"}},\"header\":{\"fill\":{\"color\":\"#C8D4E3\"},\"line\":{\"color\":\"white\"}},\"type\":\"table\"}]},\"layout\":{\"annotationdefaults\":{\"arrowcolor\":\"#2a3f5f\",\"arrowhead\":0,\"arrowwidth\":1},\"autotypenumbers\":\"strict\",\"coloraxis\":{\"colorbar\":{\"outlinewidth\":0,\"ticks\":\"\"}},\"colorscale\":{\"diverging\":[[0,\"#8e0152\"],[0.1,\"#c51b7d\"],[0.2,\"#de77ae\"],[0.3,\"#f1b6da\"],[0.4,\"#fde0ef\"],[0.5,\"#f7f7f7\"],[0.6,\"#e6f5d0\"],[0.7,\"#b8e186\"],[0.8,\"#7fbc41\"],[0.9,\"#4d9221\"],[1,\"#276419\"]],\"sequential\":[[0.0,\"#0d0887\"],[0.1111111111111111,\"#46039f\"],[0.2222222222222222,\"#7201a8\"],[0.3333333333333333,\"#9c179e\"],[0.4444444444444444,\"#bd3786\"],[0.5555555555555556,\"#d8576b\"],[0.6666666666666666,\"#ed7953\"],[0.7777777777777778,\"#fb9f3a\"],[0.8888888888888888,\"#fdca26\"],[1.0,\"#f0f921\"]],\"sequentialminus\":[[0.0,\"#0d0887\"],[0.1111111111111111,\"#46039f\"],[0.2222222222222222,\"#7201a8\"],[0.3333333333333333,\"#9c179e\"],[0.4444444444444444,\"#bd3786\"],[0.5555555555555556,\"#d8576b\"],[0.6666666666666666,\"#ed7953\"],[0.7777777777777778,\"#fb9f3a\"],[0.8888888888888888,\"#fdca26\"],[1.0,\"#f0f921\"]]},\"colorway\":[\"#636efa\",\"#EF553B\",\"#00cc96\",\"#ab63fa\",\"#FFA15A\",\"#19d3f3\",\"#FF6692\",\"#B6E880\",\"#FF97FF\",\"#FECB52\"],\"font\":{\"color\":\"#2a3f5f\"},\"geo\":{\"bgcolor\":\"white\",\"lakecolor\":\"white\",\"landcolor\":\"#E5ECF6\",\"showlakes\":true,\"showland\":true,\"subunitcolor\":\"white\"},\"hoverlabel\":{\"align\":\"left\"},\"hovermode\":\"closest\",\"mapbox\":{\"style\":\"light\"},\"paper_bgcolor\":\"white\",\"plot_bgcolor\":\"#E5ECF6\",\"polar\":{\"angularaxis\":{\"gridcolor\":\"white\",\"linecolor\":\"white\",\"ticks\":\"\"},\"bgcolor\":\"#E5ECF6\",\"radialaxis\":{\"gridcolor\":\"white\",\"linecolor\":\"white\",\"ticks\":\"\"}},\"scene\":{\"xaxis\":{\"backgroundcolor\":\"#E5ECF6\",\"gridcolor\":\"white\",\"gridwidth\":2,\"linecolor\":\"white\",\"showbackground\":true,\"ticks\":\"\",\"zerolinecolor\":\"white\"},\"yaxis\":{\"backgroundcolor\":\"#E5ECF6\",\"gridcolor\":\"white\",\"gridwidth\":2,\"linecolor\":\"white\",\"showbackground\":true,\"ticks\":\"\",\"zerolinecolor\":\"white\"},\"zaxis\":{\"backgroundcolor\":\"#E5ECF6\",\"gridcolor\":\"white\",\"gridwidth\":2,\"linecolor\":\"white\",\"showbackground\":true,\"ticks\":\"\",\"zerolinecolor\":\"white\"}},\"shapedefaults\":{\"line\":{\"color\":\"#2a3f5f\"}},\"ternary\":{\"aaxis\":{\"gridcolor\":\"white\",\"linecolor\":\"white\",\"ticks\":\"\"},\"baxis\":{\"gridcolor\":\"white\",\"linecolor\":\"white\",\"ticks\":\"\"},\"bgcolor\":\"#E5ECF6\",\"caxis\":{\"gridcolor\":\"white\",\"linecolor\":\"white\",\"ticks\":\"\"}},\"title\":{\"x\":0.05},\"xaxis\":{\"automargin\":true,\"gridcolor\":\"white\",\"linecolor\":\"white\",\"ticks\":\"\",\"title\":{\"standoff\":15},\"zerolinecolor\":\"white\",\"zerolinewidth\":2},\"yaxis\":{\"automargin\":true,\"gridcolor\":\"white\",\"linecolor\":\"white\",\"ticks\":\"\",\"title\":{\"standoff\":15},\"zerolinecolor\":\"white\",\"zerolinewidth\":2}}},\"font\":{\"size\":16},\"width\":400,\"height\":400,\"title\":{\"text\":\"Confusion Matrix\"}},                        {\"responsive\": true}                    ).then(function(){\n",
              "                            \n",
              "var gd = document.getElementById('a27be9ff-4058-42cb-b9c4-850285ac2f9e');\n",
              "var x = new MutationObserver(function (mutations, observer) {{\n",
              "        var display = window.getComputedStyle(gd).display;\n",
              "        if (!display || display === 'none') {{\n",
              "            console.log([gd, 'removed!']);\n",
              "            Plotly.purge(gd);\n",
              "            observer.disconnect();\n",
              "        }}\n",
              "}});\n",
              "\n",
              "// Listen for the removal of the full notebook cells\n",
              "var notebookContainer = gd.closest('#notebook-container');\n",
              "if (notebookContainer) {{\n",
              "    x.observe(notebookContainer, {childList: true});\n",
              "}}\n",
              "\n",
              "// Listen for the clearing of the current output cell\n",
              "var outputEl = gd.closest('.output');\n",
              "if (outputEl) {{\n",
              "    x.observe(outputEl, {childList: true});\n",
              "}}\n",
              "\n",
              "                        })                };                            </script>        </div>\n",
              "</body>\n",
              "</html>"
            ]
          },
          "metadata": {}
        }
      ]
    },
    {
      "cell_type": "code",
      "source": [
        "from sklearn.metrics import classification_report\n",
        "\n",
        "print(classification_report(y_test, y_pred, target_names=['negative', 'positive']))"
      ],
      "metadata": {
        "id": "jk4nObOHF4kS",
        "colab": {
          "base_uri": "https://localhost:8080/"
        },
        "outputId": "ae587a6c-daf1-4344-e8e1-bc4d5edad023"
      },
      "execution_count": null,
      "outputs": [
        {
          "output_type": "stream",
          "name": "stdout",
          "text": [
            "              precision    recall  f1-score   support\n",
            "\n",
            "    negative       0.79      0.82      0.80       240\n",
            "    positive       0.83      0.79      0.81       260\n",
            "\n",
            "    accuracy                           0.81       500\n",
            "   macro avg       0.81      0.81      0.81       500\n",
            "weighted avg       0.81      0.81      0.81       500\n",
            "\n"
          ]
        }
      ]
    },
    {
      "cell_type": "markdown",
      "source": [
        "Predykcja na podstawie modelu"
      ],
      "metadata": {
        "id": "32JrcgPeF_z4"
      }
    },
    {
      "cell_type": "code",
      "source": [
        "new_reviews = ['It was awesome! Very interesting story.',\n",
        "               'I cannot recommend this film. Short and awful.',\n",
        "               'Very long and boring. Don\\'t waste your time.',\n",
        "               'Well-organized and quite interesting.']\n",
        "\n",
        "new_reviews_tfidf = tfidf.transform(new_reviews)\n",
        "new_reviews_tfidf"
      ],
      "metadata": {
        "colab": {
          "base_uri": "https://localhost:8080/"
        },
        "id": "BvL5ks6GHHxL",
        "outputId": "4a9c5805-5dd4-4ee3-d218-fd1600c9c66b"
      },
      "execution_count": null,
      "outputs": [
        {
          "output_type": "execute_result",
          "data": {
            "text/plain": [
              "<4x3000 sparse matrix of type '<class 'numpy.float64'>'\n",
              "\twith 24 stored elements in Compressed Sparse Row format>"
            ]
          },
          "metadata": {},
          "execution_count": 19
        }
      ]
    },
    {
      "cell_type": "code",
      "source": [
        "new_reviews_tfidf.toarray()"
      ],
      "metadata": {
        "colab": {
          "base_uri": "https://localhost:8080/"
        },
        "id": "oLQceF_lHJjl",
        "outputId": "78a2c0a6-0ddf-418c-dbb8-96d49d40bf0f"
      },
      "execution_count": null,
      "outputs": [
        {
          "output_type": "execute_result",
          "data": {
            "text/plain": [
              "array([[0.00, 0.00, 0.00, 0.00, 0.00, 0.00, 0.00, 0.00, 0.00, 0.00, ..., 0.00, 0.00, 0.00, 0.00, 0.00, 0.00, 0.00, 0.00, 0.00, 0.00],\n",
              "       [0.00, 0.00, 0.00, 0.00, 0.00, 0.00, 0.00, 0.00, 0.00, 0.00, ..., 0.00, 0.00, 0.00, 0.00, 0.00, 0.00, 0.00, 0.00, 0.00, 0.00],\n",
              "       [0.00, 0.00, 0.00, 0.00, 0.00, 0.00, 0.00, 0.00, 0.00, 0.00, ..., 0.00, 0.00, 0.00, 0.00, 0.00, 0.34, 0.00, 0.00, 0.00, 0.00],\n",
              "       [0.00, 0.00, 0.00, 0.00, 0.00, 0.00, 0.00, 0.00, 0.00, 0.00, ..., 0.00, 0.00, 0.00, 0.00, 0.00, 0.00, 0.00, 0.00, 0.00, 0.00]])"
            ]
          },
          "metadata": {},
          "execution_count": 20
        }
      ]
    },
    {
      "cell_type": "code",
      "source": [
        "new_reviews_pred = classifier.predict(new_reviews_tfidf)\n",
        "new_reviews_pred"
      ],
      "metadata": {
        "colab": {
          "base_uri": "https://localhost:8080/"
        },
        "id": "sgbSBikaHLI0",
        "outputId": "5345087a-1f91-4428-c1b3-13773bdf8e81"
      },
      "execution_count": null,
      "outputs": [
        {
          "output_type": "execute_result",
          "data": {
            "text/plain": [
              "array([1, 0, 0, 1])"
            ]
          },
          "metadata": {},
          "execution_count": 21
        }
      ]
    },
    {
      "cell_type": "code",
      "source": [
        "new_reviews_prob = classifier.predict_proba(new_reviews_tfidf)\n",
        "new_reviews_prob"
      ],
      "metadata": {
        "colab": {
          "base_uri": "https://localhost:8080/"
        },
        "id": "EsXOe86_HMrI",
        "outputId": "19e51911-c465-4192-ac37-5d264abe1afb"
      },
      "execution_count": null,
      "outputs": [
        {
          "output_type": "execute_result",
          "data": {
            "text/plain": [
              "array([[0.47, 0.53],\n",
              "       [0.67, 0.33],\n",
              "       [0.82, 0.18],\n",
              "       [0.42, 0.58]])"
            ]
          },
          "metadata": {},
          "execution_count": 22
        }
      ]
    },
    {
      "cell_type": "code",
      "source": [
        "np.argmax(new_reviews_prob, axis=1)"
      ],
      "metadata": {
        "colab": {
          "base_uri": "https://localhost:8080/"
        },
        "id": "0f7sWw9dHOLT",
        "outputId": "7af61922-9b62-43eb-945d-f003113d2f5d"
      },
      "execution_count": null,
      "outputs": [
        {
          "output_type": "execute_result",
          "data": {
            "text/plain": [
              "array([1, 0, 0, 1])"
            ]
          },
          "metadata": {},
          "execution_count": 23
        }
      ]
    },
    {
      "cell_type": "code",
      "source": [
        "movie['target_names']"
      ],
      "metadata": {
        "colab": {
          "base_uri": "https://localhost:8080/"
        },
        "id": "q9-AYndqHPqm",
        "outputId": "ff778acc-624b-4111-8c40-e60198ae2873"
      },
      "execution_count": null,
      "outputs": [
        {
          "output_type": "execute_result",
          "data": {
            "text/plain": [
              "['neg', 'pos']"
            ]
          },
          "metadata": {},
          "execution_count": 24
        }
      ]
    },
    {
      "cell_type": "code",
      "source": [
        "for review, target, prob in zip(new_reviews, new_reviews_pred, new_reviews_prob):\n",
        "    print(f\"{review} -> {movie['target_names'][target]} -> {prob[target]:.4f}\")"
      ],
      "metadata": {
        "colab": {
          "base_uri": "https://localhost:8080/"
        },
        "id": "tvBbbSOIHRNE",
        "outputId": "a092e28f-a4dd-47fc-ede6-a9918ed2291e"
      },
      "execution_count": null,
      "outputs": [
        {
          "output_type": "stream",
          "name": "stdout",
          "text": [
            "It was awesome! Very interesting story. -> pos -> 0.5332\n",
            "I cannot recommend this film. Short and awful. -> neg -> 0.6718\n",
            "Very long and boring. Don't waste your time. -> neg -> 0.8172\n",
            "Well-organized and quite interesting. -> pos -> 0.5757\n"
          ]
        }
      ]
    },
    {
      "cell_type": "code",
      "source": [],
      "metadata": {
        "id": "7QYa2aiQKwte"
      },
      "execution_count": null,
      "outputs": []
    }
  ]
}